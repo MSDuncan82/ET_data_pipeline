{
 "cells": [
  {
   "cell_type": "code",
   "execution_count": 1,
   "metadata": {},
   "outputs": [],
   "source": [
    "import pandas as pd\n",
    "import numpy as np\n",
    "import matplotlib.pyplot as plt\n",
    "import seaborn as sns\n",
    "import os\n",
    "import sys\n",
    "import psycopg2\n",
    "import getpass\n",
    "from datetime import timedelta"
   ]
  },
  {
   "cell_type": "code",
   "execution_count": 2,
   "metadata": {},
   "outputs": [
    {
     "name": "stdout",
     "output_type": "stream",
     "text": [
      "['/home/mike/dsi/capstones/climbing_gym_checkins_eda', '/home/mike/dsi/capstones/climbing_gym_checkins_eda']\n"
     ]
    }
   ],
   "source": [
    "# Uncomment next line for first run. Then recomment\n",
    "sys.path.append('/home/mike/dsi/capstones/climbing_gym_checkins_eda')\n",
    "from src.paths import data_path, prj_path\n",
    "from src.sql_exec import SqlExec\n",
    "print(sys.path[-3:-1])"
   ]
  },
  {
   "cell_type": "code",
   "execution_count": 3,
   "metadata": {},
   "outputs": [
    {
     "ename": "TypeError",
     "evalue": "weather() got an unexpected keyword argument 'select_all'",
     "output_type": "error",
     "traceback": [
      "\u001b[0;31m---------------------------------------------------------------------------\u001b[0m",
      "\u001b[0;31mTypeError\u001b[0m                                 Traceback (most recent call last)",
      "\u001b[0;32m<ipython-input-3-b2eae4cdfaed>\u001b[0m in \u001b[0;36m<module>\u001b[0;34m\u001b[0m\n\u001b[1;32m      1\u001b[0m \u001b[0mg_sql\u001b[0m \u001b[0;34m=\u001b[0m \u001b[0mSqlExec\u001b[0m\u001b[0;34m(\u001b[0m\u001b[0;34m'gol'\u001b[0m\u001b[0;34m)\u001b[0m\u001b[0;34m\u001b[0m\u001b[0;34m\u001b[0m\u001b[0m\n\u001b[0;32m----> 2\u001b[0;31m \u001b[0mw_df\u001b[0m \u001b[0;34m=\u001b[0m \u001b[0mg_sql\u001b[0m\u001b[0;34m.\u001b[0m\u001b[0mweather\u001b[0m\u001b[0;34m(\u001b[0m\u001b[0mselect_all\u001b[0m\u001b[0;34m=\u001b[0m\u001b[0;32mTrue\u001b[0m\u001b[0;34m)\u001b[0m\u001b[0;34m\u001b[0m\u001b[0;34m\u001b[0m\u001b[0m\n\u001b[0m",
      "\u001b[0;31mTypeError\u001b[0m: weather() got an unexpected keyword argument 'select_all'"
     ]
    }
   ],
   "source": [
    "g_sql = SqlExec('gol')\n",
    "w_df = g_sql.weather(select_all=True)"
   ]
  },
  {
   "cell_type": "code",
   "execution_count": 23,
   "metadata": {},
   "outputs": [],
   "source": [
    "# Plotting settings\n",
    "plt.style.use('ggplot')"
   ]
  },
  {
   "cell_type": "markdown",
   "metadata": {},
   "source": [
    "# Weather Data\n",
    "\n",
    "In order to compare the gym check-in data with the weather, I need to have historical data for the area around the gyms that has been recorded hourly. There is a National Renewable Energy Laboratory (NREL) Solar Radiation Research Laboratory (SRRL) in Golden. The facility has been collecting and storing hourly weather data since 1981. This data is all available online which can be downloaded as csv files. The station is about 2 miles from the Golden gym and about 11 miles from the Englewood gym. Most of the sensors that are available are for solar data but there is a multitude of sensors that are specifically weather that seems pertinent to whether a person would decide to go to the gym.\n",
    "\n",
    "The columns of the raw data are: <br>\n",
    "\n",
    "|COLUMN|DESCRIPTION|LINK|\n",
    "|---|---|---|\n",
    "|`DATE (MM/DD/YYYY)`|The day of the observation in MST|\n",
    "|`HOUR-MST`|The hour of the observation in MST|\n",
    "|`Avg Deck Dry Bulb Temp [deg C]`|The average hourly dry bulb temperature taken at the deck (near the ground) in degrees Celsius|\n",
    "|`Avg Total Cloud Cover [%]`|The average hourly cloud cover including semi-transparent clouds|\n",
    "|`Avg Opaque Cloud Cover [%]`|The average hourly cloud cover of only opaque clouds|\n",
    "|`Avg Avg Wind Speed @ 6ft [m/s]`|The average hourly wind speed taken at 6ft in m/s|\n",
    "|`Avg Avg Wind Speed @ 19ft [m/s]`|The average hourly wind speed taken at 19ft in m/s|\n",
    "|`Avg Precipitation [mm]`|The average hourly precipitation in mm|\n",
    "|`Avg Snow Depth [cm]`|The average snow depth in cm|"
   ]
  },
  {
   "cell_type": "code",
   "execution_count": 24,
   "metadata": {},
   "outputs": [],
   "source": [
    "df_raw_weather = pd.read_csv('/home/mike/dsi/capstones/data_climb/weather/processed/nrl_weather.csv')"
   ]
  },
  {
   "cell_type": "code",
   "execution_count": 25,
   "metadata": {},
   "outputs": [
    {
     "data": {
      "text/html": [
       "<div>\n",
       "<style scoped>\n",
       "    .dataframe tbody tr th:only-of-type {\n",
       "        vertical-align: middle;\n",
       "    }\n",
       "\n",
       "    .dataframe tbody tr th {\n",
       "        vertical-align: top;\n",
       "    }\n",
       "\n",
       "    .dataframe thead th {\n",
       "        text-align: right;\n",
       "    }\n",
       "</style>\n",
       "<table border=\"1\" class=\"dataframe\">\n",
       "  <thead>\n",
       "    <tr style=\"text-align: right;\">\n",
       "      <th></th>\n",
       "      <th>DATE (MM/DD/YYYY)</th>\n",
       "      <th>HOUR-MST</th>\n",
       "      <th>Avg Deck Dry Bulb Temp [deg C]</th>\n",
       "      <th>Avg Total Cloud Cover [%]</th>\n",
       "      <th>Avg Opaque Cloud Cover [%]</th>\n",
       "      <th>Avg Avg Wind Speed @ 6ft [m/s]</th>\n",
       "      <th>Avg Avg Wind Speed @ 19ft [m/s]</th>\n",
       "      <th>Avg Precipitation [mm]</th>\n",
       "      <th>Avg Snow Depth [cm]</th>\n",
       "      <th>Avg Snow Depth Quality</th>\n",
       "    </tr>\n",
       "  </thead>\n",
       "  <tbody>\n",
       "    <tr>\n",
       "      <th>0</th>\n",
       "      <td>7/31/2013</td>\n",
       "      <td>1</td>\n",
       "      <td>20.4477</td>\n",
       "      <td>-1.0</td>\n",
       "      <td>-1.0</td>\n",
       "      <td>1.2930</td>\n",
       "      <td>1.8775</td>\n",
       "      <td>0.0</td>\n",
       "      <td>-0.3844</td>\n",
       "      <td>193.9567</td>\n",
       "    </tr>\n",
       "    <tr>\n",
       "      <th>1</th>\n",
       "      <td>7/31/2013</td>\n",
       "      <td>2</td>\n",
       "      <td>19.7425</td>\n",
       "      <td>-1.0</td>\n",
       "      <td>-1.0</td>\n",
       "      <td>2.6637</td>\n",
       "      <td>3.5895</td>\n",
       "      <td>0.0</td>\n",
       "      <td>-0.0902</td>\n",
       "      <td>193.6517</td>\n",
       "    </tr>\n",
       "    <tr>\n",
       "      <th>2</th>\n",
       "      <td>7/31/2013</td>\n",
       "      <td>3</td>\n",
       "      <td>18.1818</td>\n",
       "      <td>-1.0</td>\n",
       "      <td>-1.0</td>\n",
       "      <td>1.7269</td>\n",
       "      <td>2.7045</td>\n",
       "      <td>0.0</td>\n",
       "      <td>-0.0329</td>\n",
       "      <td>193.0250</td>\n",
       "    </tr>\n",
       "    <tr>\n",
       "      <th>3</th>\n",
       "      <td>7/31/2013</td>\n",
       "      <td>4</td>\n",
       "      <td>17.1130</td>\n",
       "      <td>-1.0</td>\n",
       "      <td>-1.0</td>\n",
       "      <td>0.7916</td>\n",
       "      <td>1.6774</td>\n",
       "      <td>0.0</td>\n",
       "      <td>-0.0448</td>\n",
       "      <td>193.9417</td>\n",
       "    </tr>\n",
       "    <tr>\n",
       "      <th>4</th>\n",
       "      <td>7/31/2013</td>\n",
       "      <td>5</td>\n",
       "      <td>16.5497</td>\n",
       "      <td>-1.0</td>\n",
       "      <td>-1.0</td>\n",
       "      <td>0.9635</td>\n",
       "      <td>1.2428</td>\n",
       "      <td>0.0</td>\n",
       "      <td>-0.0770</td>\n",
       "      <td>193.9117</td>\n",
       "    </tr>\n",
       "    <tr>\n",
       "      <th>...</th>\n",
       "      <td>...</td>\n",
       "      <td>...</td>\n",
       "      <td>...</td>\n",
       "      <td>...</td>\n",
       "      <td>...</td>\n",
       "      <td>...</td>\n",
       "      <td>...</td>\n",
       "      <td>...</td>\n",
       "      <td>...</td>\n",
       "      <td>...</td>\n",
       "    </tr>\n",
       "    <tr>\n",
       "      <th>55935</th>\n",
       "      <td>12/17/2019</td>\n",
       "      <td>19</td>\n",
       "      <td>1.3526</td>\n",
       "      <td>-1.0</td>\n",
       "      <td>-1.0</td>\n",
       "      <td>0.3127</td>\n",
       "      <td>0.2760</td>\n",
       "      <td>0.0</td>\n",
       "      <td>0.1591</td>\n",
       "      <td>194.0467</td>\n",
       "    </tr>\n",
       "    <tr>\n",
       "      <th>55936</th>\n",
       "      <td>12/17/2019</td>\n",
       "      <td>20</td>\n",
       "      <td>1.4430</td>\n",
       "      <td>-1.0</td>\n",
       "      <td>-1.0</td>\n",
       "      <td>0.6254</td>\n",
       "      <td>0.9133</td>\n",
       "      <td>0.0</td>\n",
       "      <td>0.2061</td>\n",
       "      <td>194.0517</td>\n",
       "    </tr>\n",
       "    <tr>\n",
       "      <th>55937</th>\n",
       "      <td>12/17/2019</td>\n",
       "      <td>21</td>\n",
       "      <td>2.0754</td>\n",
       "      <td>-1.0</td>\n",
       "      <td>-1.0</td>\n",
       "      <td>1.3962</td>\n",
       "      <td>1.7191</td>\n",
       "      <td>0.0</td>\n",
       "      <td>0.1834</td>\n",
       "      <td>194.0450</td>\n",
       "    </tr>\n",
       "    <tr>\n",
       "      <th>55938</th>\n",
       "      <td>12/17/2019</td>\n",
       "      <td>22</td>\n",
       "      <td>2.9186</td>\n",
       "      <td>-1.0</td>\n",
       "      <td>-1.0</td>\n",
       "      <td>2.6236</td>\n",
       "      <td>3.2697</td>\n",
       "      <td>0.0</td>\n",
       "      <td>0.1955</td>\n",
       "      <td>194.0667</td>\n",
       "    </tr>\n",
       "    <tr>\n",
       "      <th>55939</th>\n",
       "      <td>12/17/2019</td>\n",
       "      <td>23</td>\n",
       "      <td>3.9451</td>\n",
       "      <td>-1.0</td>\n",
       "      <td>-1.0</td>\n",
       "      <td>2.8732</td>\n",
       "      <td>3.9994</td>\n",
       "      <td>0.0</td>\n",
       "      <td>0.1644</td>\n",
       "      <td>194.0450</td>\n",
       "    </tr>\n",
       "  </tbody>\n",
       "</table>\n",
       "<p>55940 rows × 10 columns</p>\n",
       "</div>"
      ],
      "text/plain": [
       "      DATE (MM/DD/YYYY)  HOUR-MST  Avg Deck Dry Bulb Temp [deg C]  \\\n",
       "0             7/31/2013         1                         20.4477   \n",
       "1             7/31/2013         2                         19.7425   \n",
       "2             7/31/2013         3                         18.1818   \n",
       "3             7/31/2013         4                         17.1130   \n",
       "4             7/31/2013         5                         16.5497   \n",
       "...                 ...       ...                             ...   \n",
       "55935        12/17/2019        19                          1.3526   \n",
       "55936        12/17/2019        20                          1.4430   \n",
       "55937        12/17/2019        21                          2.0754   \n",
       "55938        12/17/2019        22                          2.9186   \n",
       "55939        12/17/2019        23                          3.9451   \n",
       "\n",
       "       Avg Total Cloud Cover [%]  Avg Opaque Cloud Cover [%]  \\\n",
       "0                           -1.0                        -1.0   \n",
       "1                           -1.0                        -1.0   \n",
       "2                           -1.0                        -1.0   \n",
       "3                           -1.0                        -1.0   \n",
       "4                           -1.0                        -1.0   \n",
       "...                          ...                         ...   \n",
       "55935                       -1.0                        -1.0   \n",
       "55936                       -1.0                        -1.0   \n",
       "55937                       -1.0                        -1.0   \n",
       "55938                       -1.0                        -1.0   \n",
       "55939                       -1.0                        -1.0   \n",
       "\n",
       "       Avg Avg Wind Speed @ 6ft [m/s]  Avg Avg Wind Speed @ 19ft [m/s]  \\\n",
       "0                              1.2930                           1.8775   \n",
       "1                              2.6637                           3.5895   \n",
       "2                              1.7269                           2.7045   \n",
       "3                              0.7916                           1.6774   \n",
       "4                              0.9635                           1.2428   \n",
       "...                               ...                              ...   \n",
       "55935                          0.3127                           0.2760   \n",
       "55936                          0.6254                           0.9133   \n",
       "55937                          1.3962                           1.7191   \n",
       "55938                          2.6236                           3.2697   \n",
       "55939                          2.8732                           3.9994   \n",
       "\n",
       "       Avg Precipitation [mm]  Avg Snow Depth [cm]  Avg Snow Depth Quality  \n",
       "0                         0.0              -0.3844                193.9567  \n",
       "1                         0.0              -0.0902                193.6517  \n",
       "2                         0.0              -0.0329                193.0250  \n",
       "3                         0.0              -0.0448                193.9417  \n",
       "4                         0.0              -0.0770                193.9117  \n",
       "...                       ...                  ...                     ...  \n",
       "55935                     0.0               0.1591                194.0467  \n",
       "55936                     0.0               0.2061                194.0517  \n",
       "55937                     0.0               0.1834                194.0450  \n",
       "55938                     0.0               0.1955                194.0667  \n",
       "55939                     0.0               0.1644                194.0450  \n",
       "\n",
       "[55940 rows x 10 columns]"
      ]
     },
     "execution_count": 25,
     "metadata": {},
     "output_type": "execute_result"
    }
   ],
   "source": [
    "df_raw_weather"
   ]
  },
  {
   "cell_type": "code",
   "execution_count": 26,
   "metadata": {},
   "outputs": [
    {
     "data": {
      "text/html": [
       "<div>\n",
       "<style scoped>\n",
       "    .dataframe tbody tr th:only-of-type {\n",
       "        vertical-align: middle;\n",
       "    }\n",
       "\n",
       "    .dataframe tbody tr th {\n",
       "        vertical-align: top;\n",
       "    }\n",
       "\n",
       "    .dataframe thead th {\n",
       "        text-align: right;\n",
       "    }\n",
       "</style>\n",
       "<table border=\"1\" class=\"dataframe\">\n",
       "  <thead>\n",
       "    <tr style=\"text-align: right;\">\n",
       "      <th></th>\n",
       "      <th>HOUR-MST</th>\n",
       "      <th>Avg Deck Dry Bulb Temp [deg C]</th>\n",
       "      <th>Avg Total Cloud Cover [%]</th>\n",
       "      <th>Avg Opaque Cloud Cover [%]</th>\n",
       "      <th>Avg Avg Wind Speed @ 6ft [m/s]</th>\n",
       "      <th>Avg Avg Wind Speed @ 19ft [m/s]</th>\n",
       "      <th>Avg Precipitation [mm]</th>\n",
       "      <th>Avg Snow Depth [cm]</th>\n",
       "      <th>Avg Snow Depth Quality</th>\n",
       "    </tr>\n",
       "  </thead>\n",
       "  <tbody>\n",
       "    <tr>\n",
       "      <th>count</th>\n",
       "      <td>55940.000000</td>\n",
       "      <td>55940.000000</td>\n",
       "      <td>55940.000000</td>\n",
       "      <td>55940.000000</td>\n",
       "      <td>55940.000000</td>\n",
       "      <td>55940.000000</td>\n",
       "      <td>55940.000000</td>\n",
       "      <td>55940.000000</td>\n",
       "      <td>55940.000000</td>\n",
       "    </tr>\n",
       "    <tr>\n",
       "      <th>mean</th>\n",
       "      <td>11.500822</td>\n",
       "      <td>11.204114</td>\n",
       "      <td>-125.085589</td>\n",
       "      <td>-131.527174</td>\n",
       "      <td>1.974953</td>\n",
       "      <td>2.422700</td>\n",
       "      <td>0.000946</td>\n",
       "      <td>-757.339481</td>\n",
       "      <td>-651.681750</td>\n",
       "    </tr>\n",
       "    <tr>\n",
       "      <th>std</th>\n",
       "      <td>6.921813</td>\n",
       "      <td>10.362750</td>\n",
       "      <td>3826.811381</td>\n",
       "      <td>3826.501804</td>\n",
       "      <td>1.354723</td>\n",
       "      <td>1.796940</td>\n",
       "      <td>0.008558</td>\n",
       "      <td>8673.048758</td>\n",
       "      <td>8682.821924</td>\n",
       "    </tr>\n",
       "    <tr>\n",
       "      <th>min</th>\n",
       "      <td>0.000000</td>\n",
       "      <td>-24.434500</td>\n",
       "      <td>-99999.000000</td>\n",
       "      <td>-99999.000000</td>\n",
       "      <td>0.000000</td>\n",
       "      <td>0.000000</td>\n",
       "      <td>0.000000</td>\n",
       "      <td>-99999.000000</td>\n",
       "      <td>-99999.000000</td>\n",
       "    </tr>\n",
       "    <tr>\n",
       "      <th>25%</th>\n",
       "      <td>6.000000</td>\n",
       "      <td>3.975775</td>\n",
       "      <td>-1.000000</td>\n",
       "      <td>-1.000000</td>\n",
       "      <td>1.092175</td>\n",
       "      <td>1.223575</td>\n",
       "      <td>0.000000</td>\n",
       "      <td>-0.238125</td>\n",
       "      <td>0.163075</td>\n",
       "    </tr>\n",
       "    <tr>\n",
       "      <th>50%</th>\n",
       "      <td>12.000000</td>\n",
       "      <td>11.694150</td>\n",
       "      <td>0.100000</td>\n",
       "      <td>0.000000</td>\n",
       "      <td>1.765900</td>\n",
       "      <td>2.005650</td>\n",
       "      <td>0.000000</td>\n",
       "      <td>0.035900</td>\n",
       "      <td>192.720850</td>\n",
       "    </tr>\n",
       "    <tr>\n",
       "      <th>75%</th>\n",
       "      <td>18.000000</td>\n",
       "      <td>19.088350</td>\n",
       "      <td>32.483300</td>\n",
       "      <td>17.804175</td>\n",
       "      <td>2.531150</td>\n",
       "      <td>3.158125</td>\n",
       "      <td>0.000000</td>\n",
       "      <td>0.349925</td>\n",
       "      <td>194.255000</td>\n",
       "    </tr>\n",
       "    <tr>\n",
       "      <th>max</th>\n",
       "      <td>23.000000</td>\n",
       "      <td>36.627700</td>\n",
       "      <td>99.950000</td>\n",
       "      <td>97.983300</td>\n",
       "      <td>16.268300</td>\n",
       "      <td>18.890700</td>\n",
       "      <td>0.533400</td>\n",
       "      <td>97.500000</td>\n",
       "      <td>403.190000</td>\n",
       "    </tr>\n",
       "  </tbody>\n",
       "</table>\n",
       "</div>"
      ],
      "text/plain": [
       "           HOUR-MST  Avg Deck Dry Bulb Temp [deg C]  \\\n",
       "count  55940.000000                    55940.000000   \n",
       "mean      11.500822                       11.204114   \n",
       "std        6.921813                       10.362750   \n",
       "min        0.000000                      -24.434500   \n",
       "25%        6.000000                        3.975775   \n",
       "50%       12.000000                       11.694150   \n",
       "75%       18.000000                       19.088350   \n",
       "max       23.000000                       36.627700   \n",
       "\n",
       "       Avg Total Cloud Cover [%]  Avg Opaque Cloud Cover [%]  \\\n",
       "count               55940.000000                55940.000000   \n",
       "mean                 -125.085589                 -131.527174   \n",
       "std                  3826.811381                 3826.501804   \n",
       "min                -99999.000000               -99999.000000   \n",
       "25%                    -1.000000                   -1.000000   \n",
       "50%                     0.100000                    0.000000   \n",
       "75%                    32.483300                   17.804175   \n",
       "max                    99.950000                   97.983300   \n",
       "\n",
       "       Avg Avg Wind Speed @ 6ft [m/s]  Avg Avg Wind Speed @ 19ft [m/s]  \\\n",
       "count                    55940.000000                     55940.000000   \n",
       "mean                         1.974953                         2.422700   \n",
       "std                          1.354723                         1.796940   \n",
       "min                          0.000000                         0.000000   \n",
       "25%                          1.092175                         1.223575   \n",
       "50%                          1.765900                         2.005650   \n",
       "75%                          2.531150                         3.158125   \n",
       "max                         16.268300                        18.890700   \n",
       "\n",
       "       Avg Precipitation [mm]  Avg Snow Depth [cm]  Avg Snow Depth Quality  \n",
       "count            55940.000000         55940.000000            55940.000000  \n",
       "mean                 0.000946          -757.339481             -651.681750  \n",
       "std                  0.008558          8673.048758             8682.821924  \n",
       "min                  0.000000        -99999.000000           -99999.000000  \n",
       "25%                  0.000000            -0.238125                0.163075  \n",
       "50%                  0.000000             0.035900              192.720850  \n",
       "75%                  0.000000             0.349925              194.255000  \n",
       "max                  0.533400            97.500000              403.190000  "
      ]
     },
     "execution_count": 26,
     "metadata": {},
     "output_type": "execute_result"
    }
   ],
   "source": [
    "df_raw_weather.describe()"
   ]
  },
  {
   "cell_type": "markdown",
   "metadata": {},
   "source": [
    "## Temperature\n",
    "\n",
    "Air temperature seems like one of the most important weather features that will affect climbing gym check-ins. From my experience most climbers prefer to climb in temperatures between 50 annd 80 degrees F. Performance focused climbers tend to climb when it is colder and may climb outside below 50 degrees for optimal performance but is generally a less comfortable overall experience. More recreational climbers tend to want to climb outside when it is warmer as the experience tends to be more comfortable and enjoyable but makes more difficult climbs even more challenging or impossible.\n",
    "\n",
    "The SRRL facility has different temperature measurements including dry and wet bulb temperatures and wind chill temperatures. I think the most people use the weather forecast to make decisions and the most common temperature measurement used is the dry bulb temperature. That is the measurement I selected for my temperature feature.\n",
    "\n",
    "The raw data is in Celsius but looks good other than that. I converted it to Fahrenheit."
   ]
  },
  {
   "cell_type": "code",
   "execution_count": 29,
   "metadata": {},
   "outputs": [
    {
     "ename": "KeyError",
     "evalue": "'Avg Deck Dry Bulb Temp [deg C]'",
     "output_type": "error",
     "traceback": [
      "\u001b[0;31m---------------------------------------------------------------------------\u001b[0m",
      "\u001b[0;31mKeyError\u001b[0m                                  Traceback (most recent call last)",
      "\u001b[0;32m~/anaconda3/lib/python3.7/site-packages/pandas/core/indexes/base.py\u001b[0m in \u001b[0;36mget_loc\u001b[0;34m(self, key, method, tolerance)\u001b[0m\n\u001b[1;32m   2896\u001b[0m             \u001b[0;32mtry\u001b[0m\u001b[0;34m:\u001b[0m\u001b[0;34m\u001b[0m\u001b[0;34m\u001b[0m\u001b[0m\n\u001b[0;32m-> 2897\u001b[0;31m                 \u001b[0;32mreturn\u001b[0m \u001b[0mself\u001b[0m\u001b[0;34m.\u001b[0m\u001b[0m_engine\u001b[0m\u001b[0;34m.\u001b[0m\u001b[0mget_loc\u001b[0m\u001b[0;34m(\u001b[0m\u001b[0mkey\u001b[0m\u001b[0;34m)\u001b[0m\u001b[0;34m\u001b[0m\u001b[0;34m\u001b[0m\u001b[0m\n\u001b[0m\u001b[1;32m   2898\u001b[0m             \u001b[0;32mexcept\u001b[0m \u001b[0mKeyError\u001b[0m\u001b[0;34m:\u001b[0m\u001b[0;34m\u001b[0m\u001b[0;34m\u001b[0m\u001b[0m\n",
      "\u001b[0;32mpandas/_libs/index.pyx\u001b[0m in \u001b[0;36mpandas._libs.index.IndexEngine.get_loc\u001b[0;34m()\u001b[0m\n",
      "\u001b[0;32mpandas/_libs/index.pyx\u001b[0m in \u001b[0;36mpandas._libs.index.IndexEngine.get_loc\u001b[0;34m()\u001b[0m\n",
      "\u001b[0;32mpandas/_libs/hashtable_class_helper.pxi\u001b[0m in \u001b[0;36mpandas._libs.hashtable.PyObjectHashTable.get_item\u001b[0;34m()\u001b[0m\n",
      "\u001b[0;32mpandas/_libs/hashtable_class_helper.pxi\u001b[0m in \u001b[0;36mpandas._libs.hashtable.PyObjectHashTable.get_item\u001b[0;34m()\u001b[0m\n",
      "\u001b[0;31mKeyError\u001b[0m: 'Avg Deck Dry Bulb Temp [deg C]'",
      "\nDuring handling of the above exception, another exception occurred:\n",
      "\u001b[0;31mKeyError\u001b[0m                                  Traceback (most recent call last)",
      "\u001b[0;32m<ipython-input-29-4c154f27f52f>\u001b[0m in \u001b[0;36m<module>\u001b[0;34m\u001b[0m\n\u001b[1;32m      3\u001b[0m \u001b[0;34m\u001b[0m\u001b[0m\n\u001b[1;32m      4\u001b[0m \u001b[0max\u001b[0m\u001b[0;34m.\u001b[0m\u001b[0mplot\u001b[0m\u001b[0;34m(\u001b[0m\u001b[0mw_df\u001b[0m\u001b[0;34m.\u001b[0m\u001b[0mtemp_f\u001b[0m\u001b[0;34m,\u001b[0m \u001b[0mlabel\u001b[0m\u001b[0;34m=\u001b[0m\u001b[0;34m'Dry Bulb Temp (F)'\u001b[0m\u001b[0;34m,\u001b[0m \u001b[0mlinewidth\u001b[0m\u001b[0;34m=\u001b[0m\u001b[0;36m1\u001b[0m\u001b[0;34m,\u001b[0m \u001b[0malpha\u001b[0m\u001b[0;34m=\u001b[0m\u001b[0;36m0.75\u001b[0m\u001b[0;34m)\u001b[0m\u001b[0;34m\u001b[0m\u001b[0;34m\u001b[0m\u001b[0m\n\u001b[0;32m----> 5\u001b[0;31m \u001b[0max\u001b[0m\u001b[0;34m.\u001b[0m\u001b[0mplot\u001b[0m\u001b[0;34m(\u001b[0m\u001b[0mw_df\u001b[0m\u001b[0;34m[\u001b[0m\u001b[0;34m'Avg Deck Dry Bulb Temp [deg C]'\u001b[0m\u001b[0;34m]\u001b[0m\u001b[0;34m,\u001b[0m \u001b[0mlabel\u001b[0m\u001b[0;34m=\u001b[0m\u001b[0;34m'Dry Bulb Temp (C)'\u001b[0m\u001b[0;34m)\u001b[0m\u001b[0;34m\u001b[0m\u001b[0;34m\u001b[0m\u001b[0m\n\u001b[0m\u001b[1;32m      6\u001b[0m \u001b[0max\u001b[0m\u001b[0;34m.\u001b[0m\u001b[0mset_ylabel\u001b[0m\u001b[0;34m(\u001b[0m\u001b[0;34m'Degrees'\u001b[0m\u001b[0;34m)\u001b[0m\u001b[0;34m\u001b[0m\u001b[0;34m\u001b[0m\u001b[0m\n\u001b[1;32m      7\u001b[0m \u001b[0max\u001b[0m\u001b[0;34m.\u001b[0m\u001b[0mset_xlabel\u001b[0m\u001b[0;34m(\u001b[0m\u001b[0;34m'Year'\u001b[0m\u001b[0;34m)\u001b[0m\u001b[0;34m\u001b[0m\u001b[0;34m\u001b[0m\u001b[0m\n",
      "\u001b[0;32m~/anaconda3/lib/python3.7/site-packages/pandas/core/frame.py\u001b[0m in \u001b[0;36m__getitem__\u001b[0;34m(self, key)\u001b[0m\n\u001b[1;32m   2993\u001b[0m             \u001b[0;32mif\u001b[0m \u001b[0mself\u001b[0m\u001b[0;34m.\u001b[0m\u001b[0mcolumns\u001b[0m\u001b[0;34m.\u001b[0m\u001b[0mnlevels\u001b[0m \u001b[0;34m>\u001b[0m \u001b[0;36m1\u001b[0m\u001b[0;34m:\u001b[0m\u001b[0;34m\u001b[0m\u001b[0;34m\u001b[0m\u001b[0m\n\u001b[1;32m   2994\u001b[0m                 \u001b[0;32mreturn\u001b[0m \u001b[0mself\u001b[0m\u001b[0;34m.\u001b[0m\u001b[0m_getitem_multilevel\u001b[0m\u001b[0;34m(\u001b[0m\u001b[0mkey\u001b[0m\u001b[0;34m)\u001b[0m\u001b[0;34m\u001b[0m\u001b[0;34m\u001b[0m\u001b[0m\n\u001b[0;32m-> 2995\u001b[0;31m             \u001b[0mindexer\u001b[0m \u001b[0;34m=\u001b[0m \u001b[0mself\u001b[0m\u001b[0;34m.\u001b[0m\u001b[0mcolumns\u001b[0m\u001b[0;34m.\u001b[0m\u001b[0mget_loc\u001b[0m\u001b[0;34m(\u001b[0m\u001b[0mkey\u001b[0m\u001b[0;34m)\u001b[0m\u001b[0;34m\u001b[0m\u001b[0;34m\u001b[0m\u001b[0m\n\u001b[0m\u001b[1;32m   2996\u001b[0m             \u001b[0;32mif\u001b[0m \u001b[0mis_integer\u001b[0m\u001b[0;34m(\u001b[0m\u001b[0mindexer\u001b[0m\u001b[0;34m)\u001b[0m\u001b[0;34m:\u001b[0m\u001b[0;34m\u001b[0m\u001b[0;34m\u001b[0m\u001b[0m\n\u001b[1;32m   2997\u001b[0m                 \u001b[0mindexer\u001b[0m \u001b[0;34m=\u001b[0m \u001b[0;34m[\u001b[0m\u001b[0mindexer\u001b[0m\u001b[0;34m]\u001b[0m\u001b[0;34m\u001b[0m\u001b[0;34m\u001b[0m\u001b[0m\n",
      "\u001b[0;32m~/anaconda3/lib/python3.7/site-packages/pandas/core/indexes/base.py\u001b[0m in \u001b[0;36mget_loc\u001b[0;34m(self, key, method, tolerance)\u001b[0m\n\u001b[1;32m   2897\u001b[0m                 \u001b[0;32mreturn\u001b[0m \u001b[0mself\u001b[0m\u001b[0;34m.\u001b[0m\u001b[0m_engine\u001b[0m\u001b[0;34m.\u001b[0m\u001b[0mget_loc\u001b[0m\u001b[0;34m(\u001b[0m\u001b[0mkey\u001b[0m\u001b[0;34m)\u001b[0m\u001b[0;34m\u001b[0m\u001b[0;34m\u001b[0m\u001b[0m\n\u001b[1;32m   2898\u001b[0m             \u001b[0;32mexcept\u001b[0m \u001b[0mKeyError\u001b[0m\u001b[0;34m:\u001b[0m\u001b[0;34m\u001b[0m\u001b[0;34m\u001b[0m\u001b[0m\n\u001b[0;32m-> 2899\u001b[0;31m                 \u001b[0;32mreturn\u001b[0m \u001b[0mself\u001b[0m\u001b[0;34m.\u001b[0m\u001b[0m_engine\u001b[0m\u001b[0;34m.\u001b[0m\u001b[0mget_loc\u001b[0m\u001b[0;34m(\u001b[0m\u001b[0mself\u001b[0m\u001b[0;34m.\u001b[0m\u001b[0m_maybe_cast_indexer\u001b[0m\u001b[0;34m(\u001b[0m\u001b[0mkey\u001b[0m\u001b[0;34m)\u001b[0m\u001b[0;34m)\u001b[0m\u001b[0;34m\u001b[0m\u001b[0;34m\u001b[0m\u001b[0m\n\u001b[0m\u001b[1;32m   2900\u001b[0m         \u001b[0mindexer\u001b[0m \u001b[0;34m=\u001b[0m \u001b[0mself\u001b[0m\u001b[0;34m.\u001b[0m\u001b[0mget_indexer\u001b[0m\u001b[0;34m(\u001b[0m\u001b[0;34m[\u001b[0m\u001b[0mkey\u001b[0m\u001b[0;34m]\u001b[0m\u001b[0;34m,\u001b[0m \u001b[0mmethod\u001b[0m\u001b[0;34m=\u001b[0m\u001b[0mmethod\u001b[0m\u001b[0;34m,\u001b[0m \u001b[0mtolerance\u001b[0m\u001b[0;34m=\u001b[0m\u001b[0mtolerance\u001b[0m\u001b[0;34m)\u001b[0m\u001b[0;34m\u001b[0m\u001b[0;34m\u001b[0m\u001b[0m\n\u001b[1;32m   2901\u001b[0m         \u001b[0;32mif\u001b[0m \u001b[0mindexer\u001b[0m\u001b[0;34m.\u001b[0m\u001b[0mndim\u001b[0m \u001b[0;34m>\u001b[0m \u001b[0;36m1\u001b[0m \u001b[0;32mor\u001b[0m \u001b[0mindexer\u001b[0m\u001b[0;34m.\u001b[0m\u001b[0msize\u001b[0m \u001b[0;34m>\u001b[0m \u001b[0;36m1\u001b[0m\u001b[0;34m:\u001b[0m\u001b[0;34m\u001b[0m\u001b[0;34m\u001b[0m\u001b[0m\n",
      "\u001b[0;32mpandas/_libs/index.pyx\u001b[0m in \u001b[0;36mpandas._libs.index.IndexEngine.get_loc\u001b[0;34m()\u001b[0m\n",
      "\u001b[0;32mpandas/_libs/index.pyx\u001b[0m in \u001b[0;36mpandas._libs.index.IndexEngine.get_loc\u001b[0;34m()\u001b[0m\n",
      "\u001b[0;32mpandas/_libs/hashtable_class_helper.pxi\u001b[0m in \u001b[0;36mpandas._libs.hashtable.PyObjectHashTable.get_item\u001b[0;34m()\u001b[0m\n",
      "\u001b[0;32mpandas/_libs/hashtable_class_helper.pxi\u001b[0m in \u001b[0;36mpandas._libs.hashtable.PyObjectHashTable.get_item\u001b[0;34m()\u001b[0m\n",
      "\u001b[0;31mKeyError\u001b[0m: 'Avg Deck Dry Bulb Temp [deg C]'"
     ]
    },
    {
     "data": {
      "image/png": "[encoded data removed]",
      "text/plain": [
       "<Figure size 432x288 with 1 Axes>"
      ]
     },
     "metadata": {},
     "output_type": "display_data"
    }
   ],
   "source": [
    "# plot and describe temperature data\n",
    "fig, ax = plt.subplots()\n",
    "\n",
    "ax.plot(w_df.temp_f, label='Dry Bulb Temp (F)', linewidth=1, alpha=0.75)\n",
    "ax.plot(w_df.dry_bulb_temp_c, label='Dry Bulb Temp (C)')\n",
    "ax.set_ylabel('Degrees')\n",
    "ax.set_xlabel('Year')\n",
    "ax.legend(loc='upper left')\n",
    "ax.set_title('Golden NREL SRRL Temperature Data')\n",
    "\n",
    "plt.tight_layout()\n",
    "plt.show()\n",
    "\n",
    "w_df[['dry_bulb_temp_c', 'temp_f']].describe()"
   ]
  },
  {
   "cell_type": "markdown",
   "metadata": {},
   "source": [
    "## Cloud Cover\n",
    "\n",
    "I downloaded 2 different columns for cloud cover `Avg Total Cloud Cover [%]` and `Avg Opaque Cloud Cover [%]`. Cloud cover is measured with the [SRRL TSI-880 Sky Imager Gallery](https://midcdmz.nrel.gov/apps/imagergallery.pl?SRRL). This instrument captures an all sky image, analyzes it and computes the percentage of *Opaque Clouds* coverage and *Thin Clouds* coverage. <br>\n",
    "<table style=\"width:100%\">\n",
    "    <tr>\n",
    "        <th>Image from TSI-880 on a clear day</th>\n",
    "        <th>Image from TSI-880 on a cloudy day</th>\n",
    "    </tr>\n",
    "    <tr>\n",
    "        <td style=\"text-align: center;\">\n",
    "            <img src=\"../images/20191114_clear_raw.png\" width=\"200\" height=\"400\" /><img src=\"../images/20191114_clear_calc.png\" width=\"200\" height=\"400\" />\n",
    "        </td>\n",
    "        <td style=\"text-align: center;\">\n",
    "            <img src=\"../images/20190614_cloudy_raw.png\" width=\"200\" height=\"400\" /><img src=\"../images/20190614_cloudy_calc.png\" width=\"200\" height=\"400\" />\n",
    "        </td>\n",
    "    </tr>\n",
    "</table> <br>\n",
    "\n",
    "The `Avg Total Cloud Cover [%]` is the *Opaque Clouds* + *Thin Clouds* while the `Avg Opaque Cloud Cover [%]` is just the *Opaque Clouds* coverage. The Pearson correlation between the columns is close to 1. For simplicity, I decided to use the `Avg Opaque Cloud Cover [%]` because I felt opaque clouds have more of an effect on people's tendency to want to be outside or not.\n",
    "\n",
    "As you can see below there are some extreme negative values. This is due to the SRRL data using -99999 as a NULL value."
   ]
  },
  {
   "cell_type": "code",
   "execution_count": null,
   "metadata": {},
   "outputs": [],
   "source": [
    "w_df[['opaque_cloud_cover', 'total_cloud_cover']].corr()"
   ]
  },
  {
   "cell_type": "code",
   "execution_count": null,
   "metadata": {},
   "outputs": [],
   "source": [
    "# describe raw opaque cloud cover data\n",
    "w_df.opaque_cloud_cover.describe()"
   ]
  },
  {
   "cell_type": "code",
   "execution_count": null,
   "metadata": {},
   "outputs": [],
   "source": [
    "# plot raw opaque cloud cover data\n",
    "_ = w_df.opaque_cloud_cover.plot()"
   ]
  },
  {
   "cell_type": "markdown",
   "metadata": {},
   "source": [
    "Removing these null values shows a graph that we would expect. There are still some values that are -1."
   ]
  },
  {
   "cell_type": "code",
   "execution_count": null,
   "metadata": {},
   "outputs": [],
   "source": [
    "# describe data with nulls removed\n",
    "w_df.opaque_cloud_cover[w_df.opaque_cloud_cover != -99999].describe()"
   ]
  },
  {
   "cell_type": "code",
   "execution_count": null,
   "metadata": {},
   "outputs": [],
   "source": [
    "# plot with nulls removed\n",
    "_ = w_df.opaque_cloud_cover[w_df.opaque_cloud_cover != -99999].plot()"
   ]
  },
  {
   "cell_type": "code",
   "execution_count": null,
   "metadata": {},
   "outputs": [],
   "source": [
    "# count -1 values\n",
    "print(f'Count of -1 values\" {(w_df.opaque_cloud_cover == -1).sum()}')"
   ]
  },
  {
   "cell_type": "code",
   "execution_count": null,
   "metadata": {},
   "outputs": [],
   "source": [
    "# percentage of -1\n",
    "print(f'Percentage of values that are -1: {(w_df.opaque_cloud_cover == -1).sum() / w_df.opaque_cloud_cover.count():.2f}')"
   ]
  },
  {
   "cell_type": "code",
   "execution_count": null,
   "metadata": {},
   "outputs": [],
   "source": [
    "# histogram of hours that have cloud cover of -1\n",
    "_ = w_df.hour[(w_df.opaque_cloud_cover == -1)].hist()"
   ]
  },
  {
   "cell_type": "markdown",
   "metadata": {},
   "source": [
    "About half of the values are -1. Looking at the histogram it becomes clear that the values are ssociated with hours of the day that do not have enough daylight for the sensor to read the clouds. Attempting to look up the image for any of those hours results in a *NO PICTURE* message.\n",
    "\n",
    "To clean the `Avg Opaque Cloud Cover [%]` column, all values less than 0 should be given with NULL values."
   ]
  },
  {
   "cell_type": "markdown",
   "metadata": {},
   "source": [
    "## Wind Speed\n",
    "\n",
    "I downloaded 2 wind speed columns as well. One taken at 6ft and one taken at 19ft. Looking at the graph, the numbers are reasonable and it does not appear that we need to do any complex cleaning. They appear to be correlated so it will simplify the analysis if we can drop one of the columns. In order to see which one to use, lets see if there is a large difference in values."
   ]
  },
  {
   "cell_type": "code",
   "execution_count": null,
   "metadata": {},
   "outputs": [],
   "source": [
    "fig, ax = plt.subplots()\n",
    "\n",
    "ax.plot(w_df.wind_speed_19ft_m_s, label='Wind Speed at 19ft (m/s)')\n",
    "ax.plot(w_df.wind_speed_6ft_m_s, label='Wind Speed at 6ft (m/s)')\n",
    "\n",
    "plt.legend()\n",
    "plt.show()\n",
    "\n",
    "w_df[['wind_speed_6ft_m_s', 'wind_speed_19ft_m_s']].corr()"
   ]
  },
  {
   "cell_type": "code",
   "execution_count": null,
   "metadata": {},
   "outputs": [],
   "source": [
    "w_df[['wind_speed_6ft_m_s', 'wind_speed_19ft_m_s']].describe()"
   ]
  },
  {
   "cell_type": "markdown",
   "metadata": {},
   "source": [
    "It is hard to tell from the graph but the Pearson correlation shows a strong correlation between the different wind speeds. The `wind_speed_19ft_m_s` has higher speeds and is slightly more variable. Based on the strong correlation, it will simplify our analysis if we drop one of the columns. I used `wind_speed_6ft_m_s` in my analysis because the choice is fairly arbitrary and I think people are more likely to make decisions on the wind speed they can feel at the ground than 15ft above their heads."
   ]
  },
  {
   "cell_type": "markdown",
   "metadata": {},
   "source": [
    "## Precipitation\n",
    "\n",
    "There are 2 columns available from the SRRL station for precipitation `Avg Precipitation [mm]` and `Precipitation mm (accumulated)`. The accumulated data is not available hourly so only the `Avg Precipitation [mm]` was downloaded. NREL does not provide any documentation on how Avg Precipitation is calculated. I compared it with the minute by minute data from the website and it appears to be an average of the minute by minute data. Hourly average of mm/minute is not a useful unit for analysis. In order to create a useful unit I used the conversion below:\n",
    "\n",
    "$\\large{Hourly Avg Precipitation \\: [\\frac{mm}{min*hr}] * \\frac{1}{25.4} \\: [in/mm] * 60 \\: [min] = Precipitation \\: [in/hr]}$"
   ]
  },
  {
   "cell_type": "code",
   "execution_count": null,
   "metadata": {},
   "outputs": [],
   "source": [
    "fig, ax = plt.subplots()\n",
    "\n",
    "ax.plot(w_df.precipitation_mm * 60, label='Precipitation (mm/hr)')\n",
    "ax.plot(w_df.precipitation_mm, label='Hourly Avg Precipitation (mm/min*hr)')\n",
    "\n",
    "plt.legend()\n",
    "plt.show()"
   ]
  },
  {
   "cell_type": "code",
   "execution_count": null,
   "metadata": {},
   "outputs": [],
   "source": [
    "fig, ax = plt.subplots()\n",
    "\n",
    "ax.plot(w_df.precip_in['2018'].resample('M').sum(), label='Monthly Precip (in/month)')\n",
    "ax.plot(w_df.precip_in['2018'].resample('D').sum(), label='Daily Precip (in/month)')\n",
    "ax.plot(w_df.precip_in['2018'], label='Hourly Precip (in/hr)')\n",
    "\n",
    "plt.legend()\n",
    "plt.show()"
   ]
  },
  {
   "cell_type": "code",
   "execution_count": null,
   "metadata": {},
   "outputs": [],
   "source": [
    "w_df.precip_in.resample('Y').sum()"
   ]
  },
  {
   "cell_type": "markdown",
   "metadata": {},
   "source": [
    "The precipitaion totals above are consistent with posted annual averages of rainfall for the Golden and Denver area."
   ]
  },
  {
   "cell_type": "markdown",
   "metadata": {},
   "source": [
    "## Snow Depth\n",
    "\n",
    "Snow depth, `Avg Snow Depth [cm]`, is another useful metric for predicting gym check-ins. Most climbers will choose to go to the gym instead of climbing outside if there is snow on the ground. The SRRL station measures snow depth with a [SR50A-L Sonic Distance Sensor](https://www.campbellsci.com/sr50a). This sensor has a reported accuracy of +/- 1cm. The senseor is highly variable and thoughtful data imputation is required for this to be a useful feature in the analysis. An additional measurement `Avg Snow Depth Quality` is used as a quality indicator.\n",
    "\n",
    "<table>\n",
    "    <tr>\n",
    "        <th> Snow Depth Quality </th>\n",
    "        <th> Description </th>\n",
    "    </tr>\n",
    "    <tr>\n",
    "        <td> 0 </td>\n",
    "        <td> Not able to read distance </td>\n",
    "    </tr>\n",
    "    <tr>\n",
    "        <td> 162-210 </td>\n",
    "        <td> Good measurement quality numbers </td>\n",
    "    </tr>\n",
    "    <tr>\n",
    "        <td> 210-300 </td>\n",
    "        <td> Reduced echo signal strength </td>\n",
    "    </tr>\n",
    "    <tr>\n",
    "        <td> 300-600 </td>\n",
    "        <td> High measurement uncertainty </td>\n",
    "    </tr>\n",
    "</table>\n",
    "\n",
    "From the SRRL website:\n",
    "\n",
    "Regarding real time data filtering\n",
    "> As of 12/13/2007, the datalogger will automatically filter snow depth values, based on quality indicators above. When the quality is outside the \"valid\" range of 160-250, the previous valid snow depth will be output for up to ~45 minutes, if the quality is still invalid, then the snow depth will become a missing value (-6999).\n",
    "\n",
    "Regardin inconsistent measuremnets\n",
    "> Note: In 2011, the SRRL building was expanded to the east, for some reason this expansion included adding new dirt to the area south of the building expansion, as a result this dirt creates snow drifting in the vicinity of the snow depth sensor. On 1/17/2018, the sensor was relocated to a new stand 30 feet west of the radiometer in an effort to find a location that will produce more accurate readings.\n",
    "    "
   ]
  },
  {
   "cell_type": "markdown",
   "metadata": {},
   "source": [
    "### Null values\n",
    "\n",
    "The snow_depth data records NULL values as -99999. Removing these shows extreme negative and positive spikes that need to be smoothed out. It also shows that the `Avg Snow Depth Quality` data is equal to the `Avg Snow Depth [cm]` between the timestamps 2015-01-01 01:00:00-07:00 and 2017-11-30 23:00:00-07:00. These values is invalid and while the snow depth quality does seem to correlate with the extreme variances in the snow depth measurement outside this time it will only complicate the analysis and provide useful information for cleaning the snow depth measurement data. A simple analysis of the the snow depth measurement data can sufficiently find invalid values without the use of the snow depth quality."
   ]
  },
  {
   "cell_type": "code",
   "execution_count": null,
   "metadata": {},
   "outputs": [],
   "source": [
    "w_df.snow_depth_cm.describe()"
   ]
  },
  {
   "cell_type": "code",
   "execution_count": null,
   "metadata": {},
   "outputs": [],
   "source": [
    "_ = w_df.snow_depth_cm.plot()"
   ]
  },
  {
   "cell_type": "code",
   "execution_count": null,
   "metadata": {},
   "outputs": [],
   "source": [
    "snow_no_null = w_df.snow_depth_cm[w_df.snow_depth_cm != -99999]\n",
    "qual_no_null = w_df.snow_meas_quality[w_df.snow_depth_cm != -99999]\n",
    "snow_no_null_df = pd.concat([snow_no_null, qual_no_null], axis=1)\n",
    "_ = snow_no_null_df.plot()"
   ]
  },
  {
   "cell_type": "code",
   "execution_count": null,
   "metadata": {},
   "outputs": [],
   "source": [
    "dates_bad_qual = snow_no_null_df[snow_no_null_df.snow_depth_cm == snow_no_null_df.snow_meas_quality].index\n",
    "print(f'Dates that Snow Quality == Snow Depth: {min(dates_bad_qual)}, {max(dates_bad_qual)}')"
   ]
  },
  {
   "cell_type": "markdown",
   "metadata": {},
   "source": [
    "### Extreme values\n",
    "\n",
    "Looking closer at the the extreme values shows that negative values outside of the accuracy of sensor should be NULL and negative values in this range should be 0. There are also large positive spikes that are clearly measurement error. These spikes seem to shoot above 40cm and this is a good cutoff to interpolate over in order to smooth out the spikes. \n",
    "\n",
    "So our conditions for NULL values are:\n",
    "\n",
    "<table>\n",
    "    <tr>\n",
    "        <th>\n",
    "            NULL if:\n",
    "        </th>\n",
    "    </tr>\n",
    "    <tr>\n",
    "        <td>\n",
    "            `Avg Snow Depth [cm]` = -99999 [cm]\n",
    "        </td>\n",
    "    </tr>\n",
    "    <tr>\n",
    "        <td>\n",
    "            `Avg Snow Depth [cm]` < -1 [cm]\n",
    "        </td>\n",
    "    </tr>\n",
    "    <tr>\n",
    "        <td>\n",
    "            `Avg Snow Depth [cm]` > 40 [cm]\n",
    "        </td>\n",
    "    </tr>\n",
    "</table>\n",
    "\n",
    "Looking at the graphs, interpolating over the NULL values that we set works well in all but one of the cases we looked at. The last case shows a large change in snow depth but is not captured by our NULL conditions. This can be resolved with setting a *lagged diff limit*. If the difference between a value and the value before it is more than 10cm we should null it to interpolate over these values as well. "
   ]
  },
  {
   "cell_type": "code",
   "execution_count": null,
   "metadata": {},
   "outputs": [],
   "source": [
    "null_cond = ((w_df.snow_depth_cm < -1) | (w_df.snow_depth_cm > 40))\n",
    "snow_no_null = w_df.snow_depth_cm[~null_cond]"
   ]
  },
  {
   "cell_type": "code",
   "execution_count": null,
   "metadata": {},
   "outputs": [],
   "source": [
    "snow_no_null_df[snow_no_null_df.snow_depth_cm < -10]"
   ]
  },
  {
   "cell_type": "code",
   "execution_count": null,
   "metadata": {},
   "outputs": [],
   "source": [
    "dates = slice('2015-11-27','2015-11-29')\n",
    "\n",
    "fig, ax = plt.subplots(1, 2, sharey=True, figsize=(20, 10))\n",
    "\n",
    "ax[0].plot(snow_no_null_df.snow_depth_cm[dates])\n",
    "ax[1].plot(snow_no_null[dates])"
   ]
  },
  {
   "cell_type": "code",
   "execution_count": null,
   "metadata": {},
   "outputs": [],
   "source": [
    "dates = slice('2013-08-21','2013-08-25')\n",
    "\n",
    "fig, ax = plt.subplots(1, 2, sharey=True, figsize=(20, 10))\n",
    "\n",
    "ax[0].plot(snow_no_null_df.snow_depth_cm[dates])\n",
    "ax[1].plot(snow_no_null[dates])"
   ]
  },
  {
   "cell_type": "code",
   "execution_count": null,
   "metadata": {},
   "outputs": [],
   "source": [
    "dates = slice('2016-04-15','2016-04-17')\n",
    "\n",
    "fig, ax = plt.subplots(1, 2, sharey=True, figsize=(20, 10))\n",
    "\n",
    "ax[0].plot(snow_no_null_df.snow_depth_cm[dates])\n",
    "ax[1].plot(snow_no_null[dates])"
   ]
  },
  {
   "cell_type": "code",
   "execution_count": null,
   "metadata": {},
   "outputs": [],
   "source": [
    "snow_no_null[(snow_no_null > 30)]"
   ]
  },
  {
   "cell_type": "code",
   "execution_count": null,
   "metadata": {},
   "outputs": [],
   "source": [
    "dates = slice('2015-11-29','2015-11-30')\n",
    "\n",
    "fig, ax = plt.subplots(1, 2, sharey=True, figsize=(20, 10))\n",
    "\n",
    "ax[0].plot(snow_no_null_df.snow_depth_cm[dates])\n",
    "ax[1].plot(snow_no_null[dates])"
   ]
  },
  {
   "cell_type": "code",
   "execution_count": null,
   "metadata": {},
   "outputs": [],
   "source": [
    "dates = slice('2016-01-08','2016-01-09')\n",
    "\n",
    "fig, ax = plt.subplots(1, 2, sharey=True, figsize=(20, 10))\n",
    "\n",
    "ax[0].plot(snow_no_null_df.snow_depth_cm[dates])\n",
    "ax[1].plot(snow_no_null[dates])"
   ]
  },
  {
   "cell_type": "code",
   "execution_count": null,
   "metadata": {},
   "outputs": [],
   "source": [
    "dates = slice('2016-03-22','2016-03-28')\n",
    "\n",
    "fig, ax = plt.subplots(1, 2, sharey=True, figsize=(20, 10))\n",
    "\n",
    "ax[0].plot(snow_no_null_df.snow_depth_cm[dates])\n",
    "ax[1].plot(snow_no_null[dates])"
   ]
  },
  {
   "cell_type": "code",
   "execution_count": null,
   "metadata": {},
   "outputs": [],
   "source": [
    "w_df = w_df.sort_values('datetime')"
   ]
  },
  {
   "cell_type": "code",
   "execution_count": null,
   "metadata": {},
   "outputs": [],
   "source": [
    "w_df['difference'] = w_df.snow_depth_cm.diff()"
   ]
  },
  {
   "cell_type": "code",
   "execution_count": null,
   "metadata": {},
   "outputs": [],
   "source": [
    "diff_null_cond = abs(w_df.difference) > 10\n",
    "diff_dates = np.unique(w_df[diff_null_cond].index.date)\n",
    "snow_no_null_diffs = w_df.snow_depth_cm[~diff_null_cond & ~null_cond]"
   ]
  },
  {
   "cell_type": "code",
   "execution_count": null,
   "metadata": {},
   "outputs": [],
   "source": [
    "dates = slice('2016-03-22','2016-03-28')\n",
    "\n",
    "fig, ax = plt.subplots(1, 2, sharey=True, figsize=(20, 10))\n",
    "\n",
    "ax[0].plot(snow_no_null_df.snow_depth_cm[dates])\n",
    "ax[1].plot(snow_no_null_diffs[dates])"
   ]
  },
  {
   "cell_type": "code",
   "execution_count": null,
   "metadata": {},
   "outputs": [],
   "source": [
    "dates = slice('2016-03-22','2016-03-28')\n",
    "\n",
    "fig, ax = plt.subplots(1, 2, sharey=True, figsize=(20, 10))\n",
    "\n",
    "ax[0].plot(snow_no_null_df.snow_depth_cm[dates])\n",
    "ax[1].plot(snow_no_null_diffs[dates])"
   ]
  },
  {
   "cell_type": "code",
   "execution_count": null,
   "metadata": {},
   "outputs": [],
   "source": [
    "fig, axes = plt.subplots(5, 5, sharey=True, figsize=(20, 20))\n",
    "\n",
    "for dates, ax in zip(diff_dates, axes.flatten()):\n",
    "    dates = str(dates)\n",
    "    ax.plot(snow_no_null_df.snow_depth_cm[dates], label='raw')\n",
    "    ax.plot(snow_no_null_diffs[dates], label='interpolated')\n",
    "    ax.legend()"
   ]
  },
  {
   "cell_type": "markdown",
   "metadata": {},
   "source": [
    "## Final NULL conditions for `Avg Snow Depth [cm]`\n",
    "\n",
    "<table>\n",
    "    <tr>\n",
    "        <th>\n",
    "            NULL if:\n",
    "        </th>\n",
    "    </tr>\n",
    "    <tr>\n",
    "        <td>\n",
    "            `Avg Snow Depth [cm]` = -99999 [cm]\n",
    "        </td>\n",
    "    </tr>\n",
    "    <tr>\n",
    "        <td>\n",
    "            `Avg Snow Depth [cm]` < -1 [cm]\n",
    "        </td>\n",
    "    </tr>\n",
    "    <tr>\n",
    "        <td>\n",
    "            `Avg Snow Depth [cm]` > 40 [cm]\n",
    "        </td>\n",
    "    </tr>\n",
    "    <tr>\n",
    "        <td>\n",
    "            ABS(DIFF(`Avg Snow Depth [cm]`)) > 10 [cm]\n",
    "        </td>\n",
    "    </tr>\n",
    "</table>"
   ]
  },
  {
   "cell_type": "code",
   "execution_count": null,
   "metadata": {},
   "outputs": [],
   "source": [
    "(w_df['snow_depth_in'] * 2.54).describe()"
   ]
  },
  {
   "cell_type": "code",
   "execution_count": null,
   "metadata": {},
   "outputs": [],
   "source": [
    "pd.DataFrame(snow_no_null_diffs).describe()"
   ]
  },
  {
   "cell_type": "code",
   "execution_count": null,
   "metadata": {},
   "outputs": [],
   "source": [
    "w_df[['snow_depth_cm', 'snow_depth_in']].info()"
   ]
  },
  {
   "cell_type": "code",
   "execution_count": null,
   "metadata": {},
   "outputs": [],
   "source": [
    "pd.DataFrame(snow_no_null_diffs).info()"
   ]
  },
  {
   "cell_type": "code",
   "execution_count": null,
   "metadata": {},
   "outputs": [],
   "source": [
    "dates = slice('2014-10-01', '2015-04-30')\n",
    "\n",
    "fig, ax = plt.subplots()\n",
    "\n",
    "ax.plot(w_df[dates].snow_depth_cm[w_df[dates].snow_depth_cm != -99999], label='raw', alpha = 0.5)\n",
    "ax.plot(snow_no_null_diffs[dates], label='python', alpha = 0.5)\n",
    "ax.plot(w_df[dates].snow_depth_in * 2.54, label='sql', alpha = 0.5)\n",
    "ax.legend()"
   ]
  },
  {
   "cell_type": "code",
   "execution_count": null,
   "metadata": {},
   "outputs": [],
   "source": [
    "dates = slice('2017-01-04', '2017-01-09')\n",
    "\n",
    "fig, ax = plt.subplots()\n",
    "\n",
    "ax.plot(w_df[dates].snow_depth_cm[w_df[dates].snow_depth_cm != -99999], label='raw', alpha = 0.5)\n",
    "ax.plot(snow_no_null_diffs[dates], label='python', alpha = 0.5)\n",
    "ax.plot(w_df[dates].snow_depth_in * 2.54, label='sql', alpha = 0.5)\n",
    "ax.legend()"
   ]
  },
  {
   "cell_type": "code",
   "execution_count": null,
   "metadata": {},
   "outputs": [],
   "source": [
    "w_df[dates].snow_depth_in.plot()"
   ]
  },
  {
   "cell_type": "code",
   "execution_count": null,
   "metadata": {},
   "outputs": [],
   "source": [
    "w_df[dates].snow_depth_cm.plot()"
   ]
  },
  {
   "cell_type": "markdown",
   "metadata": {},
   "source": [
    "Explanation of strange looking spike [January 2017 snowstorm](https://www.thedenverchannel.com/weather/how-much-snow-did-we-get-for-the-january-4-5-2017-storm)"
   ]
  },
  {
   "cell_type": "markdown",
   "metadata": {},
   "source": [
    "# Gym Checkin Data"
   ]
  },
  {
   "cell_type": "code",
   "execution_count": 24,
   "metadata": {},
   "outputs": [],
   "source": [
    "g_checks_raw = pd.read_csv(os.path.join(data_path, 'checkins/processed/gol_checkins.csv'))"
   ]
  },
  {
   "cell_type": "code",
   "execution_count": 25,
   "metadata": {},
   "outputs": [
    {
     "data": {
      "text/html": [
       "<div>\n",
       "<style scoped>\n",
       "    .dataframe tbody tr th:only-of-type {\n",
       "        vertical-align: middle;\n",
       "    }\n",
       "\n",
       "    .dataframe tbody tr th {\n",
       "        vertical-align: top;\n",
       "    }\n",
       "\n",
       "    .dataframe thead th {\n",
       "        text-align: right;\n",
       "    }\n",
       "</style>\n",
       "<table border=\"1\" class=\"dataframe\">\n",
       "  <thead>\n",
       "    <tr style=\"text-align: right;\">\n",
       "      <th></th>\n",
       "      <th>Date</th>\n",
       "      <th>Checkin Hour</th>\n",
       "      <th>Facility Name</th>\n",
       "      <th>CustomerKey</th>\n",
       "      <th>GUID</th>\n",
       "      <th>Age at Checkin</th>\n",
       "      <th>Checkin Type</th>\n",
       "      <th>Checkin Status</th>\n",
       "      <th>Total Checkins</th>\n",
       "    </tr>\n",
       "  </thead>\n",
       "  <tbody>\n",
       "    <tr>\n",
       "      <th>0</th>\n",
       "      <td>11/22/2013</td>\n",
       "      <td>11</td>\n",
       "      <td>Golden</td>\n",
       "      <td>6666-GOL</td>\n",
       "      <td>f4771ea1-3990-4897-8f7c-f4d849b3c501</td>\n",
       "      <td>26</td>\n",
       "      <td>Non-Member</td>\n",
       "      <td>OK</td>\n",
       "      <td>1</td>\n",
       "    </tr>\n",
       "    <tr>\n",
       "      <th>1</th>\n",
       "      <td>11/22/2013</td>\n",
       "      <td>12</td>\n",
       "      <td>Golden</td>\n",
       "      <td>6666-GOL</td>\n",
       "      <td>f4771ea1-3990-4897-8f7c-f4d849b3c501</td>\n",
       "      <td>26</td>\n",
       "      <td>Non-Member</td>\n",
       "      <td>OK</td>\n",
       "      <td>1</td>\n",
       "    </tr>\n",
       "    <tr>\n",
       "      <th>2</th>\n",
       "      <td>11/22/2013</td>\n",
       "      <td>11</td>\n",
       "      <td>Golden</td>\n",
       "      <td>6668-GOL</td>\n",
       "      <td>559e4eae-3e3e-4735-b5b5-2997ff26f4a8</td>\n",
       "      <td>24</td>\n",
       "      <td>Non-Member</td>\n",
       "      <td>Need Waiver</td>\n",
       "      <td>1</td>\n",
       "    </tr>\n",
       "    <tr>\n",
       "      <th>3</th>\n",
       "      <td>11/22/2013</td>\n",
       "      <td>11</td>\n",
       "      <td>Golden</td>\n",
       "      <td>6668-GOL</td>\n",
       "      <td>559e4eae-3e3e-4735-b5b5-2997ff26f4a8</td>\n",
       "      <td>24</td>\n",
       "      <td>Non-Member</td>\n",
       "      <td>No membership</td>\n",
       "      <td>1</td>\n",
       "    </tr>\n",
       "    <tr>\n",
       "      <th>4</th>\n",
       "      <td>11/22/2013</td>\n",
       "      <td>11</td>\n",
       "      <td>Golden</td>\n",
       "      <td>6668-GOL</td>\n",
       "      <td>559e4eae-3e3e-4735-b5b5-2997ff26f4a8</td>\n",
       "      <td>24</td>\n",
       "      <td>Non-Member</td>\n",
       "      <td>Notes - Need Waiver</td>\n",
       "      <td>1</td>\n",
       "    </tr>\n",
       "    <tr>\n",
       "      <th>...</th>\n",
       "      <td>...</td>\n",
       "      <td>...</td>\n",
       "      <td>...</td>\n",
       "      <td>...</td>\n",
       "      <td>...</td>\n",
       "      <td>...</td>\n",
       "      <td>...</td>\n",
       "      <td>...</td>\n",
       "      <td>...</td>\n",
       "    </tr>\n",
       "    <tr>\n",
       "      <th>1327246</th>\n",
       "      <td>12/11/2019</td>\n",
       "      <td>20</td>\n",
       "      <td>Golden</td>\n",
       "      <td>1135225-RNO</td>\n",
       "      <td>-</td>\n",
       "      <td>119</td>\n",
       "      <td>Member</td>\n",
       "      <td>OK</td>\n",
       "      <td>1</td>\n",
       "    </tr>\n",
       "    <tr>\n",
       "      <th>1327247</th>\n",
       "      <td>12/11/2019</td>\n",
       "      <td>20</td>\n",
       "      <td>Golden</td>\n",
       "      <td>1187550-RNO</td>\n",
       "      <td>-</td>\n",
       "      <td>119</td>\n",
       "      <td>Member</td>\n",
       "      <td>OK</td>\n",
       "      <td>1</td>\n",
       "    </tr>\n",
       "    <tr>\n",
       "      <th>1327248</th>\n",
       "      <td>12/11/2019</td>\n",
       "      <td>20</td>\n",
       "      <td>Golden</td>\n",
       "      <td>2515492-BDR</td>\n",
       "      <td>-</td>\n",
       "      <td>119</td>\n",
       "      <td>Member</td>\n",
       "      <td>OK</td>\n",
       "      <td>1</td>\n",
       "    </tr>\n",
       "    <tr>\n",
       "      <th>1327249</th>\n",
       "      <td>12/11/2019</td>\n",
       "      <td>20</td>\n",
       "      <td>Golden</td>\n",
       "      <td>3924801-DEN</td>\n",
       "      <td>-</td>\n",
       "      <td>119</td>\n",
       "      <td>Member</td>\n",
       "      <td>OK</td>\n",
       "      <td>1</td>\n",
       "    </tr>\n",
       "    <tr>\n",
       "      <th>1327250</th>\n",
       "      <td>12/11/2019</td>\n",
       "      <td>21</td>\n",
       "      <td>Golden</td>\n",
       "      <td>252461-RNO</td>\n",
       "      <td>-</td>\n",
       "      <td>119</td>\n",
       "      <td>Member</td>\n",
       "      <td>OK</td>\n",
       "      <td>1</td>\n",
       "    </tr>\n",
       "  </tbody>\n",
       "</table>\n",
       "<p>1327251 rows × 9 columns</p>\n",
       "</div>"
      ],
      "text/plain": [
       "               Date  Checkin Hour Facility Name  CustomerKey  \\\n",
       "0        11/22/2013            11        Golden     6666-GOL   \n",
       "1        11/22/2013            12        Golden     6666-GOL   \n",
       "2        11/22/2013            11        Golden     6668-GOL   \n",
       "3        11/22/2013            11        Golden     6668-GOL   \n",
       "4        11/22/2013            11        Golden     6668-GOL   \n",
       "...             ...           ...           ...          ...   \n",
       "1327246  12/11/2019            20        Golden  1135225-RNO   \n",
       "1327247  12/11/2019            20        Golden  1187550-RNO   \n",
       "1327248  12/11/2019            20        Golden  2515492-BDR   \n",
       "1327249  12/11/2019            20        Golden  3924801-DEN   \n",
       "1327250  12/11/2019            21        Golden   252461-RNO   \n",
       "\n",
       "                                         GUID Age at Checkin Checkin Type  \\\n",
       "0        f4771ea1-3990-4897-8f7c-f4d849b3c501             26   Non-Member   \n",
       "1        f4771ea1-3990-4897-8f7c-f4d849b3c501             26   Non-Member   \n",
       "2        559e4eae-3e3e-4735-b5b5-2997ff26f4a8             24   Non-Member   \n",
       "3        559e4eae-3e3e-4735-b5b5-2997ff26f4a8             24   Non-Member   \n",
       "4        559e4eae-3e3e-4735-b5b5-2997ff26f4a8             24   Non-Member   \n",
       "...                                       ...            ...          ...   \n",
       "1327246                                     -            119       Member   \n",
       "1327247                                     -            119       Member   \n",
       "1327248                                     -            119       Member   \n",
       "1327249                                     -            119       Member   \n",
       "1327250                                     -            119       Member   \n",
       "\n",
       "              Checkin Status  Total Checkins  \n",
       "0                         OK               1  \n",
       "1                         OK               1  \n",
       "2                Need Waiver               1  \n",
       "3              No membership               1  \n",
       "4        Notes - Need Waiver               1  \n",
       "...                      ...             ...  \n",
       "1327246                   OK               1  \n",
       "1327247                   OK               1  \n",
       "1327248                   OK               1  \n",
       "1327249                   OK               1  \n",
       "1327250                   OK               1  \n",
       "\n",
       "[1327251 rows x 9 columns]"
      ]
     },
     "execution_count": 25,
     "metadata": {},
     "output_type": "execute_result"
    }
   ],
   "source": [
    "g_checks_raw"
   ]
  },
  {
   "cell_type": "code",
   "execution_count": 26,
   "metadata": {},
   "outputs": [],
   "source": [
    "is_duplicate = (\n",
    "    (g_checks_raw['Date'] == g_checks_raw['Date']) \n",
    "    & (g_checks_raw['GUID'] == g_checks_raw['GUID']))"
   ]
  },
  {
   "cell_type": "code",
   "execution_count": 36,
   "metadata": {},
   "outputs": [],
   "source": [
    "df_duplicates = g_checks_raw[is_duplicate][['GUID', 'Date', 'Checkin Hour']].head()"
   ]
  },
  {
   "cell_type": "code",
   "execution_count": 37,
   "metadata": {},
   "outputs": [],
   "source": [
    "from tabulate import tabulate"
   ]
  },
  {
   "cell_type": "code",
   "execution_count": 38,
   "metadata": {},
   "outputs": [
    {
     "name": "stdout",
     "output_type": "stream",
     "text": [
      "|    | GUID                                 | Date       |   Checkin Hour |\n",
      "|---:|:-------------------------------------|:-----------|---------------:|\n",
      "|  0 | f4771ea1-3990-4897-8f7c-f4d849b3c501 | 11/22/2013 |             11 |\n",
      "|  1 | f4771ea1-3990-4897-8f7c-f4d849b3c501 | 11/22/2013 |             12 |\n",
      "|  2 | 559e4eae-3e3e-4735-b5b5-2997ff26f4a8 | 11/22/2013 |             11 |\n",
      "|  3 | 559e4eae-3e3e-4735-b5b5-2997ff26f4a8 | 11/22/2013 |             11 |\n",
      "|  4 | 559e4eae-3e3e-4735-b5b5-2997ff26f4a8 | 11/22/2013 |             11 |\n"
     ]
    }
   ],
   "source": [
    "print(tabulate(df_duplicates, tablefmt=\"pipe\", headers=\"keys\"))"
   ]
  },
  {
   "cell_type": "code",
   "execution_count": null,
   "metadata": {},
   "outputs": [],
   "source": []
  }
 ],
 "metadata": {
  "kernelspec": {
   "display_name": "Python 3",
   "language": "python",
   "name": "python3"
  },
  "language_info": {
   "codemirror_mode": {
    "name": "ipython",
    "version": 3
   },
   "file_extension": ".py",
   "mimetype": "text/x-python",
   "name": "python",
   "nbconvert_exporter": "python",
   "pygments_lexer": "ipython3",
   "version": "3.7.5"
  }
 },
 "nbformat": 4,
 "nbformat_minor": 4
}
